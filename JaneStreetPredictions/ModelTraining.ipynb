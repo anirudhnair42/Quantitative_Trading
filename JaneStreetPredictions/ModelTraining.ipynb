{
 "cells": [
  {
   "cell_type": "code",
   "execution_count": 1,
   "metadata": {
    "execution": {
     "iopub.execute_input": "2021-03-01T04:08:55.402992Z",
     "iopub.status.busy": "2021-03-01T04:08:55.402129Z",
     "iopub.status.idle": "2021-03-01T04:09:11.509493Z",
     "shell.execute_reply": "2021-03-01T04:09:11.508651Z"
    },
    "papermill": {
     "duration": 16.128379,
     "end_time": "2021-03-01T04:09:11.509721",
     "exception": false,
     "start_time": "2021-03-01T04:08:55.381342",
     "status": "completed"
    },
    "tags": []
   },
   "outputs": [
    {
     "data": {
      "text/html": [
       "<style type='text/css'>\n",
       ".datatable table.frame { margin-bottom: 0; }\n",
       ".datatable table.frame thead { border-bottom: none; }\n",
       ".datatable table.frame tr.coltypes td {  color: #FFFFFF;  line-height: 6px;  padding: 0 0.5em;}\n",
       ".datatable .bool    { background: #DDDD99; }\n",
       ".datatable .object  { background: #565656; }\n",
       ".datatable .int     { background: #5D9E5D; }\n",
       ".datatable .float   { background: #4040CC; }\n",
       ".datatable .str     { background: #CC4040; }\n",
       ".datatable .row_index {  background: var(--jp-border-color3);  border-right: 1px solid var(--jp-border-color0);  color: var(--jp-ui-font-color3);  font-size: 9px;}\n",
       ".datatable .frame tr.coltypes .row_index {  background: var(--jp-border-color0);}\n",
       ".datatable th:nth-child(2) { padding-left: 12px; }\n",
       ".datatable .hellipsis {  color: var(--jp-cell-editor-border-color);}\n",
       ".datatable .vellipsis {  background: var(--jp-layout-color0);  color: var(--jp-cell-editor-border-color);}\n",
       ".datatable .na {  color: var(--jp-cell-editor-border-color);  font-size: 80%;}\n",
       ".datatable .footer { font-size: 9px; }\n",
       ".datatable .frame_dimensions {  background: var(--jp-border-color3);  border-top: 1px solid var(--jp-border-color0);  color: var(--jp-ui-font-color3);  display: inline-block;  opacity: 0.6;  padding: 1px 10px 1px 5px;}\n",
       "</style>\n"
      ],
      "text/plain": [
       "<IPython.core.display.HTML object>"
      ]
     },
     "metadata": {},
     "output_type": "display_data"
    }
   ],
   "source": [
    "!pip -q install keras-tuner datatable\n",
    "\n",
    "import datatable\n",
    "import numpy as np \n",
    "import pandas as pd\n",
    "from tensorflow.keras.callbacks import TensorBoard\n",
    "from sklearn.model_selection import train_test_split\n",
    "from sklearn.preprocessing import LabelEncoder\n",
    "from tensorflow import keras\n",
    "from tensorflow.keras.layers import MaxPooling1D, Dense, LeakyReLU, Conv1D \n",
    "from tensorflow.keras.layers import Flatten, Activation, BatchNormalization, Dropout\n",
    "from tensorflow.keras.losses import BinaryCrossentropy\n",
    "from tensorflow.keras import layers\n",
    "from kerastuner.tuners import RandomSearch\n",
    "from kerastuner.engine.hyperparameters import HyperParameters\n",
    "import time\n",
    "import pickle\n",
    "import tensorflow as tf"
   ]
  },
  {
   "cell_type": "code",
   "execution_count": 2,
   "metadata": {
    "_cell_guid": "b1076dfc-b9ad-4769-8c92-a6c4dae69d19",
    "_uuid": "8f2839f25d086af736a60e9eeb907d3b93b6e0e5",
    "execution": {
     "iopub.execute_input": "2021-03-01T04:09:11.535009Z",
     "iopub.status.busy": "2021-03-01T04:09:11.534123Z",
     "iopub.status.idle": "2021-03-01T04:09:11.544831Z",
     "shell.execute_reply": "2021-03-01T04:09:11.544121Z"
    },
    "papermill": {
     "duration": 0.025572,
     "end_time": "2021-03-01T04:09:11.544987",
     "exception": false,
     "start_time": "2021-03-01T04:09:11.519415",
     "status": "completed"
    },
    "tags": []
   },
   "outputs": [
    {
     "name": "stdout",
     "output_type": "stream",
     "text": [
      "/kaggle/input/jane-street-market-prediction/example_sample_submission.csv\n",
      "/kaggle/input/jane-street-market-prediction/features.csv\n",
      "/kaggle/input/jane-street-market-prediction/example_test.csv\n",
      "/kaggle/input/jane-street-market-prediction/train.csv\n",
      "/kaggle/input/jane-street-market-prediction/janestreet/competition.cpython-37m-x86_64-linux-gnu.so\n",
      "/kaggle/input/jane-street-market-prediction/janestreet/__init__.py\n"
     ]
    }
   ],
   "source": [
    "# This Python 3 environment comes with many helpful analytics libraries installed\n",
    "# It is defined by the kaggle/python Docker image: https://github.com/kaggle/docker-python\n",
    "# For example, here's several helpful packages to load\n",
    "\n",
    "import numpy as np # linear algebra\n",
    "import pandas as pd # data processing, CSV file I/O (e.g. pd.read_csv)\n",
    "\n",
    "# Input data files are available in the read-only \"../input/\" directory\n",
    "# For example, running this (by clicking run or pressing Shift+Enter) will list all files under the input directory\n",
    "\n",
    "import os\n",
    "for dirname, _, filenames in os.walk('/kaggle/input'):\n",
    "    for filename in filenames:\n",
    "        print(os.path.join(dirname, filename))\n",
    "\n",
    "# You can write up to 20GB to the current directory (/kaggle/working/) that gets preserved as output when you create a version using \"Save & Run All\" \n",
    "# You can also write temporary files to /kaggle/temp/, but they won't be saved outside of the current session"
   ]
  },
  {
   "cell_type": "code",
   "execution_count": 3,
   "metadata": {
    "execution": {
     "iopub.execute_input": "2021-03-01T04:09:11.587230Z",
     "iopub.status.busy": "2021-03-01T04:09:11.586532Z",
     "iopub.status.idle": "2021-03-01T04:09:11.590308Z",
     "shell.execute_reply": "2021-03-01T04:09:11.589292Z"
    },
    "papermill": {
     "duration": 0.03633,
     "end_time": "2021-03-01T04:09:11.590463",
     "exception": false,
     "start_time": "2021-03-01T04:09:11.554133",
     "status": "completed"
    },
    "tags": []
   },
   "outputs": [],
   "source": [
    "def feature_transforms(df):\n",
    "    # Generate Features using Linear shifting, Natural Logarithm and Square Root\n",
    "    for f in [f'feature_{i}' for i in range(1,130)]: \n",
    "        # linear shifting to value above 1.0\n",
    "        df['pos_'+str(f)] = (df[f]+abs(train[f].min())+1).astype(np.float16)\n",
    "    for f in [f'feature_{i}' for i in range(1,130)]: \n",
    "        # Natural log of all the values\n",
    "        df['log_'+str(f)] = np.log(df['pos_'+str(f)]).astype(np.float16)\n",
    "    for f in [f'feature_{i}' for i in range(1,130)]: \n",
    "        # Square root of all the values\n",
    "        df['sqrt_'+str(f)] = np.sqrt(df['pos_'+str(f)]).astype(np.float16)\n",
    "    \n",
    "    # Linearly shifted values are used for log and sqrt transformations\n",
    "    # However they are useless since we have our original values which are 100% correlated\n",
    "    # Let's drop them from our data\n",
    "    df.drop([f'pos_feature_{i}' for i in range(1,130)], inplace=True, axis=1)\n",
    "    \n",
    "    # From the Shap Dependence plots, the following features seem to have cubic relationship with target\n",
    "    cubic = [3, 4, 5, 6, 28, 39, 128]\n",
    "    for i in cubic:\n",
    "        f = f'feature_{i}'\n",
    "        threes = np.full((len(df[f])), 3)\n",
    "        df['cub_'+f] =np.power(df[f], threes) \n",
    "        \n",
    "    # From the Shap Dependence plots, the following features seem to have quadratic relationship with target\n",
    "    quad = [3, 4, 5, 6, 8, 13, 17, 19, 23, 26, 27, 28, 32, 37, 39, 40, 41, 44, 45, 53, 54, 55, 57, 60, 61, 77, 83, 121, 124, 125, 127, 128]\n",
    "    for i in quad:\n",
    "        f = f'feature_{i}'\n",
    "        df['quad_'+f] =np.square(df[f]) \n",
    "    \n",
    "    return df\n",
    "\n",
    "def manipulate_pairs(df):\n",
    "    # features that can be added together or subtracted\n",
    "    add_pairs = [(6,4), (13,66),(23,66),(32,61),(37,45),(40,45),(54,45),(81,66),(111,112)]\n",
    "    for i,j in add_pairs:\n",
    "        df[f'add_{i}_{j}'] = df[f'feature_{i}']+df[f'feature_{j}']\n",
    "        df[f'sub_{i}_{j}'] = df[f'feature_{i}']-df[f'feature_{j}']\n",
    "\n",
    "    add_log_pairs = [(4,6), (5,42),(9,97),(16,87),(17,42),(21,105),(28,95),(33,42),(46,69),(73,25),(95,126),(128,126)]\n",
    "    for i,j in add_log_pairs:\n",
    "        df[f'add_{i}_log{j}'] = df[f'feature_{i}']+df[f'log_feature_{j}']\n",
    "        df[f'sub_{i}_log{j}'] = df[f'feature_{i}']-df[f'log_feature_{j}']\n",
    "    # features that can be multiplied together\n",
    "    mul_pairs = [(13,66), (19,95), (23,66), (27,92), (32,61),(38,42),(61,19)]\n",
    "    for i,j in mul_pairs:\n",
    "        df[f'mul_{i}_{j}'] = df[f'feature_{i}']*df[f'feature_{j}']\n",
    "\n",
    "    mul_log_pairs = [(5,42), (17,42), (21,105), (26,105), (33,42), (47,102)]\n",
    "    for i,j in mul_log_pairs:\n",
    "        df[f'mul_{i}_log{j}'] = df[f'feature_{i}']*df[f'log_feature_{j}']\n",
    "    return df"
   ]
  },
  {
   "cell_type": "code",
   "execution_count": 4,
   "metadata": {
    "execution": {
     "iopub.execute_input": "2021-03-01T04:09:11.618169Z",
     "iopub.status.busy": "2021-03-01T04:09:11.617427Z",
     "iopub.status.idle": "2021-03-01T04:10:44.364201Z",
     "shell.execute_reply": "2021-03-01T04:10:44.364691Z"
    },
    "papermill": {
     "duration": 92.765067,
     "end_time": "2021-03-01T04:10:44.364874",
     "exception": false,
     "start_time": "2021-03-01T04:09:11.599807",
     "status": "completed"
    },
    "tags": []
   },
   "outputs": [
    {
     "name": "stdout",
     "output_type": "stream",
     "text": [
      "CPU times: user 55.5 s, sys: 40.8 s, total: 1min 36s\n",
      "Wall time: 1min 32s\n"
     ]
    }
   ],
   "source": [
    "%%time\n",
    "\n",
    "path = '../input/jane-street-market-prediction/'\n",
    "train_path = 'train.csv'\n",
    "# use datatable to load big data file\n",
    "train_file = datatable.fread(path+train_path).to_pandas()\n",
    "\n",
    "# we see there are only two datatypes - float64 and int32\n",
    "# reduce memory usage by adopting suitable datatypes\n",
    "\n",
    "for c in train_file.columns:\n",
    "    min_val, max_val = train_file[c].min(), train_file[c].max()\n",
    "    if train_file[c].dtype == 'float64':\n",
    "        if min_val>np.finfo(np.float16).min and max_val<np.finfo(np.float16).max:\n",
    "            train_file[c] = train_file[c].astype(np.float16)\n",
    "        elif min_val>np.finfo(np.float32).min and max_val<np.finfo(np.float32).max:\n",
    "            train_file[c] = train_file[c].astype(np.float32)\n",
    "    elif train_file[c].dtype == 'int32':\n",
    "        if min_val>np.iinfo(np.int8).min and max_val<np.iinfo(np.int8).max:\n",
    "            train_file[c] = train_file[c].astype(np.int8)\n",
    "        elif min_val>np.iinfo(np.int16).min and max_val<np.iinfo(np.int16).max:\n",
    "            train_file[c] = train_file[c].astype(np.int16)\n",
    "\n",
    "\n",
    "train = train_file.copy()\n",
    "\n",
    "train = train.query('date > 200').reset_index(drop = True) \n",
    "train = train.query('date <= 300')\n",
    "train = train[train['weight'] != 0]\n"
   ]
  },
  {
   "cell_type": "code",
   "execution_count": 5,
   "metadata": {
    "execution": {
     "iopub.execute_input": "2021-03-01T04:10:44.392599Z",
     "iopub.status.busy": "2021-03-01T04:10:44.391912Z",
     "iopub.status.idle": "2021-03-01T04:11:09.013734Z",
     "shell.execute_reply": "2021-03-01T04:11:09.014587Z"
    },
    "papermill": {
     "duration": 24.640692,
     "end_time": "2021-03-01T04:11:09.015172",
     "exception": false,
     "start_time": "2021-03-01T04:10:44.374480",
     "status": "completed"
    },
    "tags": []
   },
   "outputs": [
    {
     "name": "stdout",
     "output_type": "stream",
     "text": [
      "There are 6762701 NAN values in the train data\n",
      "<class 'pandas.core.frame.DataFrame'>\n",
      "RangeIndex: 374360 entries, 0 to 374359\n",
      "Columns: 139 entries, index to ts_id\n",
      "dtypes: float16(135), int16(1), int32(1), int64(1), int8(1)\n",
      "memory usage: 101.8 MB\n"
     ]
    }
   ],
   "source": [
    "print(f'There are {train_file.isnull().sum().sum()} NAN values in the train data')\n",
    "features = [f'feature_{i}' for i in range(130)]\n",
    "\n",
    "val_range = train_file[features].max() - train_file[features].min()\n",
    "filler = pd.Series(train_file[features].min()-0.01*val_range, index=features)\n",
    "# This filler value will be used as a constant replacement of missing values \n",
    "\n",
    "\n",
    "# A function to maintain data type consistency of dataframe\n",
    "dtype_dict = dict(train_file[features].dtypes)\n",
    "def consistent_dtype(df):\n",
    "    return df.astype(dtype_dict)\n",
    "\n",
    "def fill_missing(df):\n",
    "    df[features] = np.nan_to_num(df[features]) + filler*np.isnan(df[features])\n",
    "    return df  \n",
    "\n",
    "train = fill_missing(train)\n",
    "train = consistent_dtype(train).reset_index()\n",
    "\n",
    "assert train.isnull().sum().sum() == 0\n",
    "train.info()"
   ]
  },
  {
   "cell_type": "code",
   "execution_count": 6,
   "metadata": {
    "execution": {
     "iopub.execute_input": "2021-03-01T04:11:09.052536Z",
     "iopub.status.busy": "2021-03-01T04:11:09.051660Z",
     "iopub.status.idle": "2021-03-01T04:11:09.394863Z",
     "shell.execute_reply": "2021-03-01T04:11:09.394263Z"
    },
    "papermill": {
     "duration": 0.366054,
     "end_time": "2021-03-01T04:11:09.395028",
     "exception": false,
     "start_time": "2021-03-01T04:11:09.028974",
     "status": "completed"
    },
    "tags": []
   },
   "outputs": [
    {
     "data": {
      "text/plain": [
       "<tensorflow.python.keras.layers.advanced_activations.LeakyReLU at 0x7f6cbca65f90>"
      ]
     },
     "execution_count": 6,
     "metadata": {},
     "output_type": "execute_result"
    }
   ],
   "source": [
    "SEED = 123\n",
    "\n",
    "tf.random.set_seed(SEED)\n",
    "np.random.seed(SEED)\n",
    "\n",
    "train['action'] = ((train[\"resp_4\"].values - (train['resp_1'].values)) > 0.1).astype(int)\n",
    "\n",
    "features = [c for c in train.columns if \"feature\" in c]\n",
    "\n",
    "f_mean = np.mean(train[features[1:]].values,axis=0)\n",
    "\n",
    "resp_cols = ['resp_1', 'resp_2', 'resp_3', 'resp', 'resp_4']\n",
    "\n",
    "X = train.loc[:, train.columns.str.contains('feature')]\n",
    "y_train = (train.loc[:, 'action'])\n",
    "\n",
    "Y = np.stack([(train[c] > 0).astype('int') for c in resp_cols]).T\n",
    "\n",
    "\n",
    "leaky_relu_alpha =0.05\n",
    "LeakyReLU(alpha=leaky_relu_alpha)"
   ]
  },
  {
   "cell_type": "code",
   "execution_count": 7,
   "metadata": {
    "execution": {
     "iopub.execute_input": "2021-03-01T04:11:09.423266Z",
     "iopub.status.busy": "2021-03-01T04:11:09.422305Z",
     "iopub.status.idle": "2021-03-01T04:11:09.448882Z",
     "shell.execute_reply": "2021-03-01T04:11:09.449440Z"
    },
    "papermill": {
     "duration": 0.043222,
     "end_time": "2021-03-01T04:11:09.449623",
     "exception": false,
     "start_time": "2021-03-01T04:11:09.406401",
     "status": "completed"
    },
    "tags": []
   },
   "outputs": [],
   "source": [
    "x_train = X.values.reshape(-1, X.shape[1], 1)  # reshaping for convnet\n",
    "#x_test = x_test.values.reshape(-1, x_test.shape[1], 1)  # reshaping for convnet"
   ]
  },
  {
   "cell_type": "code",
   "execution_count": 8,
   "metadata": {
    "execution": {
     "iopub.execute_input": "2021-03-01T04:11:09.481482Z",
     "iopub.status.busy": "2021-03-01T04:11:09.480689Z",
     "iopub.status.idle": "2021-03-01T04:11:09.483975Z",
     "shell.execute_reply": "2021-03-01T04:11:09.483447Z"
    },
    "papermill": {
     "duration": 0.023336,
     "end_time": "2021-03-01T04:11:09.484132",
     "exception": false,
     "start_time": "2021-03-01T04:11:09.460796",
     "status": "completed"
    },
    "tags": []
   },
   "outputs": [],
   "source": [
    "def build_model():  # random search passes this hyperparameter() object \n",
    "    model = keras.models.Sequential()\n",
    "    model.add(Conv1D(180, 2, input_shape=x_train.shape[1:]))\n",
    "    model.add(BatchNormalization())\n",
    "    model.add(LeakyReLU(alpha=leaky_relu_alpha))\n",
    "    model.add(MaxPooling1D(pool_size=2))\n",
    "    model.add(Dropout(0.15))  \n",
    "    model.add(Flatten()) \n",
    "    \n",
    "    model.add(Dense(180))\n",
    "    model.add(LeakyReLU(alpha=leaky_relu_alpha))\n",
    "    model.add(Dropout(0.15))  \n",
    "    model.add(Dense(5))\n",
    "    model.add(Activation(\"sigmoid\"))\n",
    "\n",
    "    model.compile(optimizer=keras.optimizers.Adam(lr=1e-3),\n",
    "                  loss=BinaryCrossentropy(label_smoothing=0.095),\n",
    "                  metrics=[tf.keras.metrics.AUC(name = 'auc'), \"accuracy\"])\n",
    "\n",
    "    return model"
   ]
  },
  {
   "cell_type": "code",
   "execution_count": 9,
   "metadata": {
    "execution": {
     "iopub.execute_input": "2021-03-01T04:11:09.535909Z",
     "iopub.status.busy": "2021-03-01T04:11:09.535252Z",
     "iopub.status.idle": "2021-03-01T04:11:09.726808Z",
     "shell.execute_reply": "2021-03-01T04:11:09.726017Z"
    },
    "papermill": {
     "duration": 0.23128,
     "end_time": "2021-03-01T04:11:09.726960",
     "exception": false,
     "start_time": "2021-03-01T04:11:09.495680",
     "status": "completed"
    },
    "tags": []
   },
   "outputs": [],
   "source": [
    "model = build_model()"
   ]
  },
  {
   "cell_type": "code",
   "execution_count": 10,
   "metadata": {
    "execution": {
     "iopub.execute_input": "2021-03-01T04:11:09.756219Z",
     "iopub.status.busy": "2021-03-01T04:11:09.755567Z",
     "iopub.status.idle": "2021-03-01T05:02:46.282455Z",
     "shell.execute_reply": "2021-03-01T05:02:46.283003Z"
    },
    "papermill": {
     "duration": 3096.544344,
     "end_time": "2021-03-01T05:02:46.283260",
     "exception": false,
     "start_time": "2021-03-01T04:11:09.738916",
     "status": "completed"
    },
    "tags": []
   },
   "outputs": [
    {
     "name": "stdout",
     "output_type": "stream",
     "text": [
      "Epoch 1/10\n",
      "366/366 [==============================] - 301s 816ms/step - loss: 0.8016 - auc: 0.5112 - accuracy: 0.1856\n",
      "Epoch 2/10\n",
      "366/366 [==============================] - 310s 846ms/step - loss: 0.6953 - auc: 0.5283 - accuracy: 0.2013\n",
      "Epoch 3/10\n",
      "366/366 [==============================] - 311s 846ms/step - loss: 0.6930 - auc: 0.5334 - accuracy: 0.2218\n",
      "Epoch 4/10\n",
      "366/366 [==============================] - 298s 816ms/step - loss: 0.6921 - auc: 0.5366 - accuracy: 0.2342\n",
      "Epoch 5/10\n",
      "366/366 [==============================] - 328s 897ms/step - loss: 0.6909 - auc: 0.5417 - accuracy: 0.2197\n",
      "Epoch 6/10\n",
      "366/366 [==============================] - 300s 819ms/step - loss: 0.6905 - auc: 0.5444 - accuracy: 0.2249\n",
      "Epoch 7/10\n",
      "366/366 [==============================] - 322s 881ms/step - loss: 0.6897 - auc: 0.5480 - accuracy: 0.2372\n",
      "Epoch 8/10\n",
      "366/366 [==============================] - 302s 825ms/step - loss: 0.6890 - auc: 0.5500 - accuracy: 0.2494\n",
      "Epoch 9/10\n",
      "366/366 [==============================] - 320s 873ms/step - loss: 0.6886 - auc: 0.5516 - accuracy: 0.2503\n",
      "Epoch 10/10\n",
      "366/366 [==============================] - 304s 830ms/step - loss: 0.6884 - auc: 0.5526 - accuracy: 0.2476\n"
     ]
    },
    {
     "data": {
      "text/plain": [
       "<tensorflow.python.keras.callbacks.History at 0x7f6cb60c4a10>"
      ]
     },
     "execution_count": 10,
     "metadata": {},
     "output_type": "execute_result"
    }
   ],
   "source": [
    "model.fit(x=x_train,\n",
    "          y=Y,\n",
    "          epochs=10,\n",
    "          batch_size=1024)"
   ]
  },
  {
   "cell_type": "code",
   "execution_count": 11,
   "metadata": {
    "execution": {
     "iopub.execute_input": "2021-03-01T05:02:48.559178Z",
     "iopub.status.busy": "2021-03-01T05:02:48.558452Z",
     "iopub.status.idle": "2021-03-01T05:07:05.664218Z",
     "shell.execute_reply": "2021-03-01T05:07:05.664829Z"
    },
    "papermill": {
     "duration": 258.254366,
     "end_time": "2021-03-01T05:07:05.665014",
     "exception": false,
     "start_time": "2021-03-01T05:02:47.410648",
     "status": "completed"
    },
    "tags": []
   },
   "outputs": [
    {
     "name": "stderr",
     "output_type": "stream",
     "text": [
      "15219it [04:17, 59.21it/s]\n"
     ]
    }
   ],
   "source": [
    "from tqdm import tqdm\n",
    "f = np.median\n",
    "th = 0.5000\n",
    "import janestreet\n",
    "env = janestreet.make_env()\n",
    "for (test_df, pred_df) in tqdm(env.iter_test()):\n",
    "    if test_df['weight'].item() > 0:\n",
    "        x_tt = test_df.loc[:, features].values\n",
    "        if np.isnan(x_tt[:, 1:].sum()):\n",
    "            x_tt[:, 1:] = np.nan_to_num(x_tt[:, 1:]) + np.isnan(x_tt[:, 1:]) * f_mean\n",
    "        pred = np.mean([model(x_tt.reshape(-1, x_tt.shape[1], 1), training = False).numpy()],axis=0)\n",
    "        pred = f(pred)\n",
    "        pred_df.action = np.where(pred >= th, 1, 0).astype(int)\n",
    "    else:\n",
    "        pred_df.action = 0\n",
    "    env.predict(pred_df)\n"
   ]
  }
 ],
 "metadata": {
  "kernelspec": {
   "display_name": "Python 3",
   "language": "python",
   "name": "python3"
  },
  "language_info": {
   "codemirror_mode": {
    "name": "ipython",
    "version": 3
   },
   "file_extension": ".py",
   "mimetype": "text/x-python",
   "name": "python",
   "nbconvert_exporter": "python",
   "pygments_lexer": "ipython3",
   "version": "3.8.5"
  },
  "papermill": {
   "default_parameters": {},
   "duration": 3499.814816,
   "end_time": "2021-03-01T05:07:09.037381",
   "environment_variables": {},
   "exception": null,
   "input_path": "__notebook__.ipynb",
   "output_path": "__notebook__.ipynb",
   "parameters": {},
   "start_time": "2021-03-01T04:08:49.222565",
   "version": "2.2.2"
  }
 },
 "nbformat": 4,
 "nbformat_minor": 4
}
